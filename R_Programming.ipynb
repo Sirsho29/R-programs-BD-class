{
  "nbformat": 4,
  "nbformat_minor": 0,
  "metadata": {
    "colab": {
      "name": "R-Programming.ipynb",
      "provenance": [],
      "collapsed_sections": [],
      "authorship_tag": "ABX9TyOjs6tE/iF1OY+mi0C3BpHp",
      "include_colab_link": true
    },
    "kernelspec": {
      "name": "ir",
      "display_name": "R"
    },
    "language_info": {
      "name": "R"
    }
  },
  "cells": [
    {
      "cell_type": "markdown",
      "metadata": {
        "id": "view-in-github",
        "colab_type": "text"
      },
      "source": [
        "<a href=\"https://colab.research.google.com/github/Sirsho29/R-programs-BD-class/blob/main/R_Programming.ipynb\" target=\"_parent\"><img src=\"https://colab.research.google.com/assets/colab-badge.svg\" alt=\"Open In Colab\"/></a>"
      ]
    },
    {
      "cell_type": "markdown",
      "metadata": {
        "id": "qbgeTznuhn5y"
      },
      "source": [
        ""
      ]
    },
    {
      "cell_type": "code",
      "metadata": {
        "colab": {
          "base_uri": "https://localhost:8080/"
        },
        "id": "UtAppYDRxwJ8",
        "outputId": "0d31c674-0ed3-4094-bba4-fa9a8310b786"
      },
      "source": [
        "{\n",
        "    var1 = readline(\"Enter 1st number : \");\n",
        "    var2 = readline(\"Enter 2nd number : \");\n",
        "    var3 = readline(\"Enter 3rd number : \");\n",
        "    var4 = readline(\"Enter 4th number : \");\n",
        "    var5 = readline(\"Enter 5th number : \");\n",
        "}\n",
        "\n",
        "var1 = as.integer(var1);\n",
        "var2 = as.integer(var2);\n",
        "var3 = as.integer(var3);\n",
        "var4 = as.integer(var4);\n",
        "var5 = as.integer(var5);\n",
        "\n",
        "x <- c(var1,var2,var3,var4,var5) \n",
        "\n",
        "print((var1 + var2 + var3 + var4+var5))\n",
        "print((var1 + var2 + var3 + var4+var5)/5)\n",
        "print(sd(x))"
      ],
      "execution_count": null,
      "outputs": [
        {
          "output_type": "stream",
          "name": "stdout",
          "text": [
            "Enter 1st number : 1\n",
            "Enter 2nd number : 2\n",
            "Enter 3rd number : 3\n",
            "Enter 4th number : 4\n",
            "Enter 5th number : 5\n",
            "[1] 15\n",
            "[1] 3\n",
            "[1] 1.581139\n"
          ]
        }
      ]
    },
    {
      "cell_type": "code",
      "metadata": {
        "id": "bWaPg3CYyVqU"
      },
      "source": [
        "convert<-function(value){\n",
        "  return(value*75.0)\n",
        "}\n",
        "\n",
        "print(convert(5));"
      ],
      "execution_count": null,
      "outputs": []
    },
    {
      "cell_type": "markdown",
      "metadata": {
        "id": "DzQ66-_XhKmh"
      },
      "source": [
        "**Q3 : Randomly generate 1,000 pets, from the choices “dog,” “cat,” “hamster,” and\n",
        "“goldfish,” with equal probability of each being chosen. Display the first few\n",
        "values of the resultant variable, and count the number of each type of pet.**"
      ]
    },
    {
      "cell_type": "code",
      "metadata": {
        "colab": {
          "base_uri": "https://localhost:8080/",
          "height": 50
        },
        "id": "S-tu4cDKebez",
        "outputId": "80efc965-a6a5-4b89-f16c-3e56baa415f4"
      },
      "source": [
        "pet <-sample(c(\"dog\", \"cat\", \"hamster\", \"goldfish\"), 1000, replace =TRUE)\n",
        "str(pet)\n",
        "summary(as.factor(pet))"
      ],
      "execution_count": 10,
      "outputs": [
        {
          "output_type": "stream",
          "name": "stdout",
          "text": [
            " chr [1:1000] \"dog\" \"cat\" \"dog\" \"cat\" \"hamster\" \"hamster\" \"dog\" \"cat\" \"dog\" ...\n"
          ]
        },
        {
          "output_type": "display_data",
          "data": {
            "text/plain": [
              "     cat      dog goldfish  hamster \n",
              "     258      252      239      251 "
            ],
            "text/latex": "\\begin{description*}\n\\item[cat] 258\n\\item[dog] 252\n\\item[goldfish] 239\n\\item[hamster] 251\n\\end{description*}\n",
            "text/markdown": "cat\n:   258dog\n:   252goldfish\n:   239hamster\n:   251\n\n",
            "text/html": [
              "<style>\n",
              ".dl-inline {width: auto; margin:0; padding: 0}\n",
              ".dl-inline>dt, .dl-inline>dd {float: none; width: auto; display: inline-block}\n",
              ".dl-inline>dt::after {content: \":\\0020\"; padding-right: .5ex}\n",
              ".dl-inline>dt:not(:first-of-type) {padding-left: .5ex}\n",
              "</style><dl class=dl-inline><dt>cat</dt><dd>258</dd><dt>dog</dt><dd>252</dd><dt>goldfish</dt><dd>239</dd><dt>hamster</dt><dd>251</dd></dl>\n"
            ]
          },
          "metadata": {}
        }
      ]
    },
    {
      "cell_type": "markdown",
      "metadata": {
        "id": "IqBnGVfgjSOp"
      },
      "source": [
        "**The beaver1 and beaver2 data frames contain body temperatures of two\n",
        "beavers. Add a column named id to the beaver1 dataset, where the value is\n",
        "always 1. Similarly, add an id column to beaver2, with value 2. Vertically\n",
        "concatenate the two data frames and find the subset where body temp is above**"
      ]
    },
    {
      "cell_type": "code",
      "metadata": {
        "colab": {
          "base_uri": "https://localhost:8080/",
          "height": 1000
        },
        "id": "WVJoSBBYjJep",
        "outputId": "bde287b6-ffde-4ff9-8e7e-21c4ead6df46"
      },
      "source": [
        "beaver1$id <- 1\n",
        "beaver2$id <- 2\n",
        "both_beavers <- rbind(beaver1, beaver2)\n",
        "subset(both_beavers, as.logical(activ))\n"
      ],
      "execution_count": 11,
      "outputs": [
        {
          "output_type": "display_data",
          "data": {
            "text/plain": [
              "    day time temp  activ id\n",
              "54  346 1730 37.07 1     1 \n",
              "68  346 1950 37.10 1     1 \n",
              "80  346 2150 37.53 1     1 \n",
              "83  346 2230 37.25 1     1 \n",
              "86  346 2300 37.24 1     1 \n",
              "114 347  340 37.15 1     1 \n",
              "153 307 1550 37.98 1     2 \n",
              "154 307 1600 38.02 1     2 \n",
              "155 307 1610 38.00 1     2 \n",
              "156 307 1620 38.24 1     2 \n",
              "157 307 1630 38.10 1     2 \n",
              "158 307 1640 38.24 1     2 \n",
              "159 307 1650 38.11 1     2 \n",
              "160 307 1700 38.02 1     2 \n",
              "161 307 1710 38.11 1     2 \n",
              "162 307 1720 38.01 1     2 \n",
              "163 307 1730 37.91 1     2 \n",
              "164 307 1740 37.96 1     2 \n",
              "165 307 1750 38.03 1     2 \n",
              "166 307 1800 38.17 1     2 \n",
              "167 307 1810 38.19 1     2 \n",
              "168 307 1820 38.18 1     2 \n",
              "169 307 1830 38.15 1     2 \n",
              "170 307 1840 38.04 1     2 \n",
              "171 307 1850 37.96 1     2 \n",
              "172 307 1900 37.84 1     2 \n",
              "173 307 1910 37.83 1     2 \n",
              "174 307 1920 37.84 1     2 \n",
              "175 307 1930 37.74 1     2 \n",
              "176 307 1940 37.76 1     2 \n",
              "⋮   ⋮   ⋮    ⋮     ⋮     ⋮ \n",
              "185 307 2110 37.95 1     2 \n",
              "186 307 2120 37.95 1     2 \n",
              "187 307 2130 37.76 1     2 \n",
              "188 307 2140 37.60 1     2 \n",
              "189 307 2150 37.89 1     2 \n",
              "190 307 2200 37.86 1     2 \n",
              "191 307 2210 37.71 1     2 \n",
              "192 307 2220 37.78 1     2 \n",
              "193 307 2230 37.82 1     2 \n",
              "194 307 2240 37.76 1     2 \n",
              "195 307 2250 37.81 1     2 \n",
              "196 307 2300 37.84 1     2 \n",
              "197 307 2310 38.01 1     2 \n",
              "198 307 2320 38.10 1     2 \n",
              "199 307 2330 38.15 1     2 \n",
              "200 307 2340 37.92 1     2 \n",
              "201 307 2350 37.64 1     2 \n",
              "202 308    0 37.70 1     2 \n",
              "203 308   10 37.46 1     2 \n",
              "204 308   20 37.41 1     2 \n",
              "205 308   30 37.46 1     2 \n",
              "206 308   40 37.56 1     2 \n",
              "207 308   50 37.55 1     2 \n",
              "208 308  100 37.75 1     2 \n",
              "209 308  110 37.76 1     2 \n",
              "210 308  120 37.73 1     2 \n",
              "211 308  130 37.77 1     2 \n",
              "212 308  140 38.01 1     2 \n",
              "213 308  150 38.04 1     2 \n",
              "214 308  200 38.07 1     2 "
            ],
            "text/latex": "A data.frame: 68 × 5\n\\begin{tabular}{r|lllll}\n  & day & time & temp & activ & id\\\\\n  & <dbl> & <dbl> & <dbl> & <dbl> & <dbl>\\\\\n\\hline\n\t54 & 346 & 1730 & 37.07 & 1 & 1\\\\\n\t68 & 346 & 1950 & 37.10 & 1 & 1\\\\\n\t80 & 346 & 2150 & 37.53 & 1 & 1\\\\\n\t83 & 346 & 2230 & 37.25 & 1 & 1\\\\\n\t86 & 346 & 2300 & 37.24 & 1 & 1\\\\\n\t114 & 347 &  340 & 37.15 & 1 & 1\\\\\n\t153 & 307 & 1550 & 37.98 & 1 & 2\\\\\n\t154 & 307 & 1600 & 38.02 & 1 & 2\\\\\n\t155 & 307 & 1610 & 38.00 & 1 & 2\\\\\n\t156 & 307 & 1620 & 38.24 & 1 & 2\\\\\n\t157 & 307 & 1630 & 38.10 & 1 & 2\\\\\n\t158 & 307 & 1640 & 38.24 & 1 & 2\\\\\n\t159 & 307 & 1650 & 38.11 & 1 & 2\\\\\n\t160 & 307 & 1700 & 38.02 & 1 & 2\\\\\n\t161 & 307 & 1710 & 38.11 & 1 & 2\\\\\n\t162 & 307 & 1720 & 38.01 & 1 & 2\\\\\n\t163 & 307 & 1730 & 37.91 & 1 & 2\\\\\n\t164 & 307 & 1740 & 37.96 & 1 & 2\\\\\n\t165 & 307 & 1750 & 38.03 & 1 & 2\\\\\n\t166 & 307 & 1800 & 38.17 & 1 & 2\\\\\n\t167 & 307 & 1810 & 38.19 & 1 & 2\\\\\n\t168 & 307 & 1820 & 38.18 & 1 & 2\\\\\n\t169 & 307 & 1830 & 38.15 & 1 & 2\\\\\n\t170 & 307 & 1840 & 38.04 & 1 & 2\\\\\n\t171 & 307 & 1850 & 37.96 & 1 & 2\\\\\n\t172 & 307 & 1900 & 37.84 & 1 & 2\\\\\n\t173 & 307 & 1910 & 37.83 & 1 & 2\\\\\n\t174 & 307 & 1920 & 37.84 & 1 & 2\\\\\n\t175 & 307 & 1930 & 37.74 & 1 & 2\\\\\n\t176 & 307 & 1940 & 37.76 & 1 & 2\\\\\n\t⋮ & ⋮ & ⋮ & ⋮ & ⋮ & ⋮\\\\\n\t185 & 307 & 2110 & 37.95 & 1 & 2\\\\\n\t186 & 307 & 2120 & 37.95 & 1 & 2\\\\\n\t187 & 307 & 2130 & 37.76 & 1 & 2\\\\\n\t188 & 307 & 2140 & 37.60 & 1 & 2\\\\\n\t189 & 307 & 2150 & 37.89 & 1 & 2\\\\\n\t190 & 307 & 2200 & 37.86 & 1 & 2\\\\\n\t191 & 307 & 2210 & 37.71 & 1 & 2\\\\\n\t192 & 307 & 2220 & 37.78 & 1 & 2\\\\\n\t193 & 307 & 2230 & 37.82 & 1 & 2\\\\\n\t194 & 307 & 2240 & 37.76 & 1 & 2\\\\\n\t195 & 307 & 2250 & 37.81 & 1 & 2\\\\\n\t196 & 307 & 2300 & 37.84 & 1 & 2\\\\\n\t197 & 307 & 2310 & 38.01 & 1 & 2\\\\\n\t198 & 307 & 2320 & 38.10 & 1 & 2\\\\\n\t199 & 307 & 2330 & 38.15 & 1 & 2\\\\\n\t200 & 307 & 2340 & 37.92 & 1 & 2\\\\\n\t201 & 307 & 2350 & 37.64 & 1 & 2\\\\\n\t202 & 308 &    0 & 37.70 & 1 & 2\\\\\n\t203 & 308 &   10 & 37.46 & 1 & 2\\\\\n\t204 & 308 &   20 & 37.41 & 1 & 2\\\\\n\t205 & 308 &   30 & 37.46 & 1 & 2\\\\\n\t206 & 308 &   40 & 37.56 & 1 & 2\\\\\n\t207 & 308 &   50 & 37.55 & 1 & 2\\\\\n\t208 & 308 &  100 & 37.75 & 1 & 2\\\\\n\t209 & 308 &  110 & 37.76 & 1 & 2\\\\\n\t210 & 308 &  120 & 37.73 & 1 & 2\\\\\n\t211 & 308 &  130 & 37.77 & 1 & 2\\\\\n\t212 & 308 &  140 & 38.01 & 1 & 2\\\\\n\t213 & 308 &  150 & 38.04 & 1 & 2\\\\\n\t214 & 308 &  200 & 38.07 & 1 & 2\\\\\n\\end{tabular}\n",
            "text/markdown": "\nA data.frame: 68 × 5\n\n| <!--/--> | day &lt;dbl&gt; | time &lt;dbl&gt; | temp &lt;dbl&gt; | activ &lt;dbl&gt; | id &lt;dbl&gt; |\n|---|---|---|---|---|---|\n| 54 | 346 | 1730 | 37.07 | 1 | 1 |\n| 68 | 346 | 1950 | 37.10 | 1 | 1 |\n| 80 | 346 | 2150 | 37.53 | 1 | 1 |\n| 83 | 346 | 2230 | 37.25 | 1 | 1 |\n| 86 | 346 | 2300 | 37.24 | 1 | 1 |\n| 114 | 347 |  340 | 37.15 | 1 | 1 |\n| 153 | 307 | 1550 | 37.98 | 1 | 2 |\n| 154 | 307 | 1600 | 38.02 | 1 | 2 |\n| 155 | 307 | 1610 | 38.00 | 1 | 2 |\n| 156 | 307 | 1620 | 38.24 | 1 | 2 |\n| 157 | 307 | 1630 | 38.10 | 1 | 2 |\n| 158 | 307 | 1640 | 38.24 | 1 | 2 |\n| 159 | 307 | 1650 | 38.11 | 1 | 2 |\n| 160 | 307 | 1700 | 38.02 | 1 | 2 |\n| 161 | 307 | 1710 | 38.11 | 1 | 2 |\n| 162 | 307 | 1720 | 38.01 | 1 | 2 |\n| 163 | 307 | 1730 | 37.91 | 1 | 2 |\n| 164 | 307 | 1740 | 37.96 | 1 | 2 |\n| 165 | 307 | 1750 | 38.03 | 1 | 2 |\n| 166 | 307 | 1800 | 38.17 | 1 | 2 |\n| 167 | 307 | 1810 | 38.19 | 1 | 2 |\n| 168 | 307 | 1820 | 38.18 | 1 | 2 |\n| 169 | 307 | 1830 | 38.15 | 1 | 2 |\n| 170 | 307 | 1840 | 38.04 | 1 | 2 |\n| 171 | 307 | 1850 | 37.96 | 1 | 2 |\n| 172 | 307 | 1900 | 37.84 | 1 | 2 |\n| 173 | 307 | 1910 | 37.83 | 1 | 2 |\n| 174 | 307 | 1920 | 37.84 | 1 | 2 |\n| 175 | 307 | 1930 | 37.74 | 1 | 2 |\n| 176 | 307 | 1940 | 37.76 | 1 | 2 |\n| ⋮ | ⋮ | ⋮ | ⋮ | ⋮ | ⋮ |\n| 185 | 307 | 2110 | 37.95 | 1 | 2 |\n| 186 | 307 | 2120 | 37.95 | 1 | 2 |\n| 187 | 307 | 2130 | 37.76 | 1 | 2 |\n| 188 | 307 | 2140 | 37.60 | 1 | 2 |\n| 189 | 307 | 2150 | 37.89 | 1 | 2 |\n| 190 | 307 | 2200 | 37.86 | 1 | 2 |\n| 191 | 307 | 2210 | 37.71 | 1 | 2 |\n| 192 | 307 | 2220 | 37.78 | 1 | 2 |\n| 193 | 307 | 2230 | 37.82 | 1 | 2 |\n| 194 | 307 | 2240 | 37.76 | 1 | 2 |\n| 195 | 307 | 2250 | 37.81 | 1 | 2 |\n| 196 | 307 | 2300 | 37.84 | 1 | 2 |\n| 197 | 307 | 2310 | 38.01 | 1 | 2 |\n| 198 | 307 | 2320 | 38.10 | 1 | 2 |\n| 199 | 307 | 2330 | 38.15 | 1 | 2 |\n| 200 | 307 | 2340 | 37.92 | 1 | 2 |\n| 201 | 307 | 2350 | 37.64 | 1 | 2 |\n| 202 | 308 |    0 | 37.70 | 1 | 2 |\n| 203 | 308 |   10 | 37.46 | 1 | 2 |\n| 204 | 308 |   20 | 37.41 | 1 | 2 |\n| 205 | 308 |   30 | 37.46 | 1 | 2 |\n| 206 | 308 |   40 | 37.56 | 1 | 2 |\n| 207 | 308 |   50 | 37.55 | 1 | 2 |\n| 208 | 308 |  100 | 37.75 | 1 | 2 |\n| 209 | 308 |  110 | 37.76 | 1 | 2 |\n| 210 | 308 |  120 | 37.73 | 1 | 2 |\n| 211 | 308 |  130 | 37.77 | 1 | 2 |\n| 212 | 308 |  140 | 38.01 | 1 | 2 |\n| 213 | 308 |  150 | 38.04 | 1 | 2 |\n| 214 | 308 |  200 | 38.07 | 1 | 2 |\n\n",
            "text/html": [
              "<table class=\"dataframe\">\n",
              "<caption>A data.frame: 68 × 5</caption>\n",
              "<thead>\n",
              "\t<tr><th></th><th scope=col>day</th><th scope=col>time</th><th scope=col>temp</th><th scope=col>activ</th><th scope=col>id</th></tr>\n",
              "\t<tr><th></th><th scope=col>&lt;dbl&gt;</th><th scope=col>&lt;dbl&gt;</th><th scope=col>&lt;dbl&gt;</th><th scope=col>&lt;dbl&gt;</th><th scope=col>&lt;dbl&gt;</th></tr>\n",
              "</thead>\n",
              "<tbody>\n",
              "\t<tr><th scope=row>54</th><td>346</td><td>1730</td><td>37.07</td><td>1</td><td>1</td></tr>\n",
              "\t<tr><th scope=row>68</th><td>346</td><td>1950</td><td>37.10</td><td>1</td><td>1</td></tr>\n",
              "\t<tr><th scope=row>80</th><td>346</td><td>2150</td><td>37.53</td><td>1</td><td>1</td></tr>\n",
              "\t<tr><th scope=row>83</th><td>346</td><td>2230</td><td>37.25</td><td>1</td><td>1</td></tr>\n",
              "\t<tr><th scope=row>86</th><td>346</td><td>2300</td><td>37.24</td><td>1</td><td>1</td></tr>\n",
              "\t<tr><th scope=row>114</th><td>347</td><td> 340</td><td>37.15</td><td>1</td><td>1</td></tr>\n",
              "\t<tr><th scope=row>153</th><td>307</td><td>1550</td><td>37.98</td><td>1</td><td>2</td></tr>\n",
              "\t<tr><th scope=row>154</th><td>307</td><td>1600</td><td>38.02</td><td>1</td><td>2</td></tr>\n",
              "\t<tr><th scope=row>155</th><td>307</td><td>1610</td><td>38.00</td><td>1</td><td>2</td></tr>\n",
              "\t<tr><th scope=row>156</th><td>307</td><td>1620</td><td>38.24</td><td>1</td><td>2</td></tr>\n",
              "\t<tr><th scope=row>157</th><td>307</td><td>1630</td><td>38.10</td><td>1</td><td>2</td></tr>\n",
              "\t<tr><th scope=row>158</th><td>307</td><td>1640</td><td>38.24</td><td>1</td><td>2</td></tr>\n",
              "\t<tr><th scope=row>159</th><td>307</td><td>1650</td><td>38.11</td><td>1</td><td>2</td></tr>\n",
              "\t<tr><th scope=row>160</th><td>307</td><td>1700</td><td>38.02</td><td>1</td><td>2</td></tr>\n",
              "\t<tr><th scope=row>161</th><td>307</td><td>1710</td><td>38.11</td><td>1</td><td>2</td></tr>\n",
              "\t<tr><th scope=row>162</th><td>307</td><td>1720</td><td>38.01</td><td>1</td><td>2</td></tr>\n",
              "\t<tr><th scope=row>163</th><td>307</td><td>1730</td><td>37.91</td><td>1</td><td>2</td></tr>\n",
              "\t<tr><th scope=row>164</th><td>307</td><td>1740</td><td>37.96</td><td>1</td><td>2</td></tr>\n",
              "\t<tr><th scope=row>165</th><td>307</td><td>1750</td><td>38.03</td><td>1</td><td>2</td></tr>\n",
              "\t<tr><th scope=row>166</th><td>307</td><td>1800</td><td>38.17</td><td>1</td><td>2</td></tr>\n",
              "\t<tr><th scope=row>167</th><td>307</td><td>1810</td><td>38.19</td><td>1</td><td>2</td></tr>\n",
              "\t<tr><th scope=row>168</th><td>307</td><td>1820</td><td>38.18</td><td>1</td><td>2</td></tr>\n",
              "\t<tr><th scope=row>169</th><td>307</td><td>1830</td><td>38.15</td><td>1</td><td>2</td></tr>\n",
              "\t<tr><th scope=row>170</th><td>307</td><td>1840</td><td>38.04</td><td>1</td><td>2</td></tr>\n",
              "\t<tr><th scope=row>171</th><td>307</td><td>1850</td><td>37.96</td><td>1</td><td>2</td></tr>\n",
              "\t<tr><th scope=row>172</th><td>307</td><td>1900</td><td>37.84</td><td>1</td><td>2</td></tr>\n",
              "\t<tr><th scope=row>173</th><td>307</td><td>1910</td><td>37.83</td><td>1</td><td>2</td></tr>\n",
              "\t<tr><th scope=row>174</th><td>307</td><td>1920</td><td>37.84</td><td>1</td><td>2</td></tr>\n",
              "\t<tr><th scope=row>175</th><td>307</td><td>1930</td><td>37.74</td><td>1</td><td>2</td></tr>\n",
              "\t<tr><th scope=row>176</th><td>307</td><td>1940</td><td>37.76</td><td>1</td><td>2</td></tr>\n",
              "\t<tr><th scope=row>⋮</th><td>⋮</td><td>⋮</td><td>⋮</td><td>⋮</td><td>⋮</td></tr>\n",
              "\t<tr><th scope=row>185</th><td>307</td><td>2110</td><td>37.95</td><td>1</td><td>2</td></tr>\n",
              "\t<tr><th scope=row>186</th><td>307</td><td>2120</td><td>37.95</td><td>1</td><td>2</td></tr>\n",
              "\t<tr><th scope=row>187</th><td>307</td><td>2130</td><td>37.76</td><td>1</td><td>2</td></tr>\n",
              "\t<tr><th scope=row>188</th><td>307</td><td>2140</td><td>37.60</td><td>1</td><td>2</td></tr>\n",
              "\t<tr><th scope=row>189</th><td>307</td><td>2150</td><td>37.89</td><td>1</td><td>2</td></tr>\n",
              "\t<tr><th scope=row>190</th><td>307</td><td>2200</td><td>37.86</td><td>1</td><td>2</td></tr>\n",
              "\t<tr><th scope=row>191</th><td>307</td><td>2210</td><td>37.71</td><td>1</td><td>2</td></tr>\n",
              "\t<tr><th scope=row>192</th><td>307</td><td>2220</td><td>37.78</td><td>1</td><td>2</td></tr>\n",
              "\t<tr><th scope=row>193</th><td>307</td><td>2230</td><td>37.82</td><td>1</td><td>2</td></tr>\n",
              "\t<tr><th scope=row>194</th><td>307</td><td>2240</td><td>37.76</td><td>1</td><td>2</td></tr>\n",
              "\t<tr><th scope=row>195</th><td>307</td><td>2250</td><td>37.81</td><td>1</td><td>2</td></tr>\n",
              "\t<tr><th scope=row>196</th><td>307</td><td>2300</td><td>37.84</td><td>1</td><td>2</td></tr>\n",
              "\t<tr><th scope=row>197</th><td>307</td><td>2310</td><td>38.01</td><td>1</td><td>2</td></tr>\n",
              "\t<tr><th scope=row>198</th><td>307</td><td>2320</td><td>38.10</td><td>1</td><td>2</td></tr>\n",
              "\t<tr><th scope=row>199</th><td>307</td><td>2330</td><td>38.15</td><td>1</td><td>2</td></tr>\n",
              "\t<tr><th scope=row>200</th><td>307</td><td>2340</td><td>37.92</td><td>1</td><td>2</td></tr>\n",
              "\t<tr><th scope=row>201</th><td>307</td><td>2350</td><td>37.64</td><td>1</td><td>2</td></tr>\n",
              "\t<tr><th scope=row>202</th><td>308</td><td>   0</td><td>37.70</td><td>1</td><td>2</td></tr>\n",
              "\t<tr><th scope=row>203</th><td>308</td><td>  10</td><td>37.46</td><td>1</td><td>2</td></tr>\n",
              "\t<tr><th scope=row>204</th><td>308</td><td>  20</td><td>37.41</td><td>1</td><td>2</td></tr>\n",
              "\t<tr><th scope=row>205</th><td>308</td><td>  30</td><td>37.46</td><td>1</td><td>2</td></tr>\n",
              "\t<tr><th scope=row>206</th><td>308</td><td>  40</td><td>37.56</td><td>1</td><td>2</td></tr>\n",
              "\t<tr><th scope=row>207</th><td>308</td><td>  50</td><td>37.55</td><td>1</td><td>2</td></tr>\n",
              "\t<tr><th scope=row>208</th><td>308</td><td> 100</td><td>37.75</td><td>1</td><td>2</td></tr>\n",
              "\t<tr><th scope=row>209</th><td>308</td><td> 110</td><td>37.76</td><td>1</td><td>2</td></tr>\n",
              "\t<tr><th scope=row>210</th><td>308</td><td> 120</td><td>37.73</td><td>1</td><td>2</td></tr>\n",
              "\t<tr><th scope=row>211</th><td>308</td><td> 130</td><td>37.77</td><td>1</td><td>2</td></tr>\n",
              "\t<tr><th scope=row>212</th><td>308</td><td> 140</td><td>38.01</td><td>1</td><td>2</td></tr>\n",
              "\t<tr><th scope=row>213</th><td>308</td><td> 150</td><td>38.04</td><td>1</td><td>2</td></tr>\n",
              "\t<tr><th scope=row>214</th><td>308</td><td> 200</td><td>38.07</td><td>1</td><td>2</td></tr>\n",
              "</tbody>\n",
              "</table>\n"
            ]
          },
          "metadata": {}
        }
      ]
    },
    {
      "cell_type": "code",
      "metadata": {
        "id": "SOkyR4LSjK5a"
      },
      "source": [
        ""
      ],
      "execution_count": null,
      "outputs": []
    }
  ]
}