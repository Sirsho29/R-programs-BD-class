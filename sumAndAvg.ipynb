{
  "nbformat": 4,
  "nbformat_minor": 0,
  "metadata": {
    "colab": {
      "name": "sumAndAvg.ipynb",
      "provenance": [],
      "authorship_tag": "ABX9TyMRD6crIwclS/ImBwdpCihu",
      "include_colab_link": true
    },
    "kernelspec": {
      "name": "ir",
      "display_name": "R"
    },
    "language_info": {
      "name": "R"
    }
  },
  "cells": [
    {
      "cell_type": "markdown",
      "metadata": {
        "id": "view-in-github",
        "colab_type": "text"
      },
      "source": [
        "<a href=\"https://colab.research.google.com/github/Sirsho29/R-programs-BD-class/blob/main/sumAndAvg.ipynb\" target=\"_parent\"><img src=\"https://colab.research.google.com/assets/colab-badge.svg\" alt=\"Open In Colab\"/></a>"
      ]
    },
    {
      "cell_type": "code",
      "metadata": {
        "colab": {
          "base_uri": "https://localhost:8080/"
        },
        "id": "UtAppYDRxwJ8",
        "outputId": "0d31c674-0ed3-4094-bba4-fa9a8310b786"
      },
      "source": [
        "{\n",
        "    var1 = readline(\"Enter 1st number : \");\n",
        "    var2 = readline(\"Enter 2nd number : \");\n",
        "    var3 = readline(\"Enter 3rd number : \");\n",
        "    var4 = readline(\"Enter 4th number : \");\n",
        "    var5 = readline(\"Enter 5th number : \");\n",
        "}\n",
        "\n",
        "var1 = as.integer(var1);\n",
        "var2 = as.integer(var2);\n",
        "var3 = as.integer(var3);\n",
        "var4 = as.integer(var4);\n",
        "var5 = as.integer(var5);\n",
        "\n",
        "x <- c(var1,var2,var3,var4,var5) \n",
        "\n",
        "print((var1 + var2 + var3 + var4+var5))\n",
        "print((var1 + var2 + var3 + var4+var5)/5)\n",
        "print(sd(x))"
      ],
      "execution_count": 5,
      "outputs": [
        {
          "output_type": "stream",
          "name": "stdout",
          "text": [
            "Enter 1st number : 1\n",
            "Enter 2nd number : 2\n",
            "Enter 3rd number : 3\n",
            "Enter 4th number : 4\n",
            "Enter 5th number : 5\n",
            "[1] 15\n",
            "[1] 3\n",
            "[1] 1.581139\n"
          ]
        }
      ]
    },
    {
      "cell_type": "code",
      "metadata": {
        "id": "bWaPg3CYyVqU"
      },
      "source": [
        ""
      ],
      "execution_count": null,
      "outputs": []
    }
  ]
}